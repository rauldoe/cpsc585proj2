{
 "cells": [
  {
   "cell_type": "code",
   "execution_count": 1,
   "metadata": {},
   "outputs": [],
   "source": [
    "from __future__ import print_function\n",
    "\n",
    "import tensorflow as tf\n",
    "from tensorflow.keras.datasets import mnist\n",
    "from tensorflow.keras.models import Sequential\n",
    "from tensorflow.keras.layers import Dense, Dropout\n",
    "from tensorflow.keras.optimizers import RMSprop\n",
    "\n",
    "# Importing the EMNIST letters\n",
    "from scipy import io as sio\n",
    ""
   ]
  },
  {
   "cell_type": "code",
   "execution_count": 2,
   "metadata": {},
   "outputs": [],
   "source": [
    "# Batch size of 128 had about 90.4% accuracy.\n",
    "# Thus, a batch size of 1000 was used where accuracy was about 91.5%. \n",
    "# Signifigantly higher batch sizes also decreased test accuracy.\n",
    "batch_size = 1000\n",
    "# num_classes = 10\n",
    "num_classes = 26\n",
    "epochs = 1000 #There is early stopping, so it won't reach 1000 epochs. This needs to be high.\n",
    "\n",
    "# https://stackoverflow.com/questions/51125969/loading-emnist-letters-dataset/53547262#53547262\n",
    "mat = sio.loadmat('emnist-letters.mat')\n",
    "data = mat['dataset']\n",
    "\n",
    "x_train = data['train'][0,0]['images'][0,0]\n",
    "y_train = data['train'][0,0]['labels'][0,0]\n",
    "x_test = data['test'][0,0]['images'][0,0]\n",
    "y_test = data['test'][0,0]['labels'][0,0]\n",
    "\n",
    "val_start = x_train.shape[0] - x_test.shape[0]\n",
    "x_val = x_train[val_start:x_train.shape[0],:]\n",
    "y_val = y_train[val_start:x_train.shape[0]]\n",
    "x_train = x_train[0:val_start,:]\n",
    "y_train = y_train[0:val_start]\n",
    "\n",
    "\n",
    "# convert class vectors to binary class matrices\n",
    "y_train = tf.keras.utils.to_categorical(y_train - 1, num_classes, dtype='float32')\n",
    "y_test = tf.keras.utils.to_categorical(y_test - 1, num_classes, dtype='float32')\n",
    "\n",
    "y_val = tf.keras.utils.to_categorical(y_val - 1, num_classes, dtype='float32')\n",
    ""
   ]
  },
  {
   "cell_type": "code",
   "execution_count": 3,
   "metadata": {},
   "outputs": [
    {
     "output_type": "stream",
     "name": "stdout",
     "text": "Model: \"sequential\"\n_________________________________________________________________\nLayer (type)                 Output Shape              Param #   \n=================================================================\ndense (Dense)                (None, 512)               401920    \n_________________________________________________________________\ndropout (Dropout)            (None, 512)               0         \n_________________________________________________________________\ndense_1 (Dense)              (None, 2000)              1026000   \n_________________________________________________________________\ndropout_1 (Dropout)          (None, 2000)              0         \n_________________________________________________________________\ndense_2 (Dense)              (None, 26)                52026     \n=================================================================\nTotal params: 1,479,946\nTrainable params: 1,479,946\nNon-trainable params: 0\n_________________________________________________________________\n"
    }
   ],
   "source": [
    "model = Sequential()\n",
    "# Sigmoid seemed to work better for test accuracy compared to relu. (sigmoid was getting 91% test accuracy compared to 89% for relu.)\n",
    "# Sigmoid was slighly better than tanh, but both were about the same test accuracy (within a few tenths of a percent)\n",
    "model.add(Dense(512, activation='sigmoid', input_shape=(784,)))\n",
    "# Tried different dropout rates, but 0.2 seemed to work well and provided a modest improvement.\n",
    "# (~0.5% test accuracy improvement compared to not using dropout at all)\n",
    "model.add(Dropout(0.2))\n",
    "# Compared to other numbers of neurons, this number seemed to work well (2000 hidden neurons)\n",
    "model.add(Dense(2000, activation='sigmoid'))\n",
    "model.add(Dropout(0.2))\n",
    "model.add(Dense(num_classes, activation='softmax'))\n",
    "\n",
    "model.summary()\n",
    "\n",
    "model.compile(loss='categorical_crossentropy',\n",
    "              optimizer=RMSprop(),\n",
    "              metrics=['accuracy'])\n",
    "\n",
    "\n",
    "# https://www.tensorflow.org/api_docs/python/tf/keras/callbacks/EarlyStopping\n",
    "earlyStop = tf.keras.callbacks.EarlyStopping(\n",
    "    monitor='val_loss', min_delta=0.0001, patience=5, verbose=0, mode='auto',\n",
    "    baseline=None, restore_best_weights=True\n",
    ")\n",
    ""
   ]
  },
  {
   "cell_type": "code",
   "execution_count": 4,
   "metadata": {},
   "outputs": [
    {
     "output_type": "stream",
     "name": "stdout",
     "text": "Train on 104000 samples, validate on 20800 samples\nEpoch 1/1000\n104000/104000 [==============================] - 4s 41us/sample - loss: 1.6881 - accuracy: 0.5237 - val_loss: 1.0922 - val_accuracy: 0.6687\nEpoch 2/1000\n104000/104000 [==============================] - 1s 13us/sample - loss: 0.9706 - accuracy: 0.7031 - val_loss: 0.8137 - val_accuracy: 0.7494\nEpoch 3/1000\n104000/104000 [==============================] - 1s 14us/sample - loss: 0.7903 - accuracy: 0.7549 - val_loss: 0.6986 - val_accuracy: 0.7853\nEpoch 4/1000\n104000/104000 [==============================] - 1s 14us/sample - loss: 0.6858 - accuracy: 0.7867 - val_loss: 0.6170 - val_accuracy: 0.8106\nEpoch 5/1000\n104000/104000 [==============================] - 2s 15us/sample - loss: 0.6228 - accuracy: 0.8052 - val_loss: 0.5536 - val_accuracy: 0.8274\nEpoch 6/1000\n104000/104000 [==============================] - 2s 17us/sample - loss: 0.5674 - accuracy: 0.8201 - val_loss: 0.5043 - val_accuracy: 0.8400\nEpoch 7/1000\n104000/104000 [==============================] - 1s 14us/sample - loss: 0.5368 - accuracy: 0.8290 - val_loss: 0.4879 - val_accuracy: 0.8447\nEpoch 8/1000\n104000/104000 [==============================] - 2s 15us/sample - loss: 0.5070 - accuracy: 0.8400 - val_loss: 0.4484 - val_accuracy: 0.8598\nEpoch 9/1000\n104000/104000 [==============================] - 2s 16us/sample - loss: 0.4797 - accuracy: 0.8465 - val_loss: 0.4283 - val_accuracy: 0.8652\nEpoch 10/1000\n104000/104000 [==============================] - 2s 15us/sample - loss: 0.4518 - accuracy: 0.8547 - val_loss: 0.4169 - val_accuracy: 0.8668\nEpoch 11/1000\n104000/104000 [==============================] - 1s 14us/sample - loss: 0.4327 - accuracy: 0.8610 - val_loss: 0.4027 - val_accuracy: 0.8726\nEpoch 12/1000\n104000/104000 [==============================] - 2s 15us/sample - loss: 0.4191 - accuracy: 0.8646 - val_loss: 0.3812 - val_accuracy: 0.8800\nEpoch 13/1000\n104000/104000 [==============================] - 1s 14us/sample - loss: 0.4058 - accuracy: 0.8677 - val_loss: 0.3824 - val_accuracy: 0.8779\nEpoch 14/1000\n104000/104000 [==============================] - 2s 15us/sample - loss: 0.3938 - accuracy: 0.8720 - val_loss: 0.3601 - val_accuracy: 0.8875\nEpoch 15/1000\n104000/104000 [==============================] - 2s 15us/sample - loss: 0.3802 - accuracy: 0.8756 - val_loss: 0.3514 - val_accuracy: 0.8863\nEpoch 16/1000\n104000/104000 [==============================] - 2s 15us/sample - loss: 0.3684 - accuracy: 0.8795 - val_loss: 0.3586 - val_accuracy: 0.8849\nEpoch 17/1000\n104000/104000 [==============================] - 2s 16us/sample - loss: 0.3598 - accuracy: 0.8826 - val_loss: 0.3397 - val_accuracy: 0.8910\nEpoch 18/1000\n104000/104000 [==============================] - 2s 15us/sample - loss: 0.3504 - accuracy: 0.8841 - val_loss: 0.3299 - val_accuracy: 0.8950\nEpoch 19/1000\n104000/104000 [==============================] - 1s 14us/sample - loss: 0.3423 - accuracy: 0.8871 - val_loss: 0.3255 - val_accuracy: 0.8963\nEpoch 20/1000\n104000/104000 [==============================] - 1s 14us/sample - loss: 0.3340 - accuracy: 0.8898 - val_loss: 0.3278 - val_accuracy: 0.8947\nEpoch 21/1000\n104000/104000 [==============================] - 2s 15us/sample - loss: 0.3244 - accuracy: 0.8932 - val_loss: 0.3212 - val_accuracy: 0.8966\nEpoch 22/1000\n104000/104000 [==============================] - 2s 16us/sample - loss: 0.3197 - accuracy: 0.8947 - val_loss: 0.3187 - val_accuracy: 0.8982\nEpoch 23/1000\n104000/104000 [==============================] - 2s 15us/sample - loss: 0.3102 - accuracy: 0.8960 - val_loss: 0.3123 - val_accuracy: 0.8975\nEpoch 24/1000\n104000/104000 [==============================] - 2s 16us/sample - loss: 0.3049 - accuracy: 0.8975 - val_loss: 0.3089 - val_accuracy: 0.9024\nEpoch 25/1000\n104000/104000 [==============================] - 2s 16us/sample - loss: 0.2943 - accuracy: 0.9014 - val_loss: 0.2989 - val_accuracy: 0.9046\nEpoch 26/1000\n104000/104000 [==============================] - 2s 15us/sample - loss: 0.2935 - accuracy: 0.9016 - val_loss: 0.3041 - val_accuracy: 0.9010\nEpoch 27/1000\n104000/104000 [==============================] - 1s 14us/sample - loss: 0.2921 - accuracy: 0.9012 - val_loss: 0.2963 - val_accuracy: 0.9043\nEpoch 28/1000\n104000/104000 [==============================] - 2s 15us/sample - loss: 0.2863 - accuracy: 0.9032 - val_loss: 0.2969 - val_accuracy: 0.9046\nEpoch 29/1000\n104000/104000 [==============================] - 2s 16us/sample - loss: 0.2803 - accuracy: 0.9052 - val_loss: 0.2906 - val_accuracy: 0.9078\nEpoch 30/1000\n104000/104000 [==============================] - 2s 15us/sample - loss: 0.2785 - accuracy: 0.9059 - val_loss: 0.2914 - val_accuracy: 0.9059\nEpoch 31/1000\n104000/104000 [==============================] - 2s 15us/sample - loss: 0.2713 - accuracy: 0.9069 - val_loss: 0.2879 - val_accuracy: 0.9067\nEpoch 32/1000\n104000/104000 [==============================] - 2s 15us/sample - loss: 0.2681 - accuracy: 0.9088 - val_loss: 0.2865 - val_accuracy: 0.9086\nEpoch 33/1000\n104000/104000 [==============================] - 2s 15us/sample - loss: 0.2672 - accuracy: 0.9092 - val_loss: 0.2804 - val_accuracy: 0.9101\nEpoch 34/1000\n104000/104000 [==============================] - 2s 18us/sample - loss: 0.2588 - accuracy: 0.9107 - val_loss: 0.2871 - val_accuracy: 0.9086\nEpoch 35/1000\n104000/104000 [==============================] - 2s 16us/sample - loss: 0.2548 - accuracy: 0.9132 - val_loss: 0.2827 - val_accuracy: 0.9092\nEpoch 36/1000\n104000/104000 [==============================] - 2s 16us/sample - loss: 0.2489 - accuracy: 0.9141 - val_loss: 0.2743 - val_accuracy: 0.9121\nEpoch 37/1000\n104000/104000 [==============================] - 2s 16us/sample - loss: 0.2458 - accuracy: 0.9157 - val_loss: 0.2741 - val_accuracy: 0.9140\nEpoch 38/1000\n104000/104000 [==============================] - 1s 13us/sample - loss: 0.2447 - accuracy: 0.9156 - val_loss: 0.2774 - val_accuracy: 0.9124\nEpoch 39/1000\n104000/104000 [==============================] - 1s 13us/sample - loss: 0.2463 - accuracy: 0.9153 - val_loss: 0.2724 - val_accuracy: 0.9148\nEpoch 40/1000\n104000/104000 [==============================] - 1s 13us/sample - loss: 0.2390 - accuracy: 0.9174 - val_loss: 0.2716 - val_accuracy: 0.9134\nEpoch 41/1000\n104000/104000 [==============================] - 1s 13us/sample - loss: 0.2356 - accuracy: 0.9186 - val_loss: 0.2718 - val_accuracy: 0.9127\nEpoch 42/1000\n104000/104000 [==============================] - 1s 13us/sample - loss: 0.2356 - accuracy: 0.9180 - val_loss: 0.2687 - val_accuracy: 0.9128\nEpoch 43/1000\n104000/104000 [==============================] - 2s 15us/sample - loss: 0.2304 - accuracy: 0.9198 - val_loss: 0.2694 - val_accuracy: 0.9160\nEpoch 44/1000\n104000/104000 [==============================] - 2s 14us/sample - loss: 0.2280 - accuracy: 0.9205 - val_loss: 0.2666 - val_accuracy: 0.9140\nEpoch 45/1000\n104000/104000 [==============================] - 1s 14us/sample - loss: 0.2241 - accuracy: 0.9219 - val_loss: 0.2677 - val_accuracy: 0.9146\nEpoch 46/1000\n104000/104000 [==============================] - 2s 15us/sample - loss: 0.2262 - accuracy: 0.9212 - val_loss: 0.2695 - val_accuracy: 0.9145\nEpoch 47/1000\n104000/104000 [==============================] - 2s 15us/sample - loss: 0.2220 - accuracy: 0.9222 - val_loss: 0.2654 - val_accuracy: 0.9155\nEpoch 48/1000\n104000/104000 [==============================] - 2s 15us/sample - loss: 0.2187 - accuracy: 0.9230 - val_loss: 0.2630 - val_accuracy: 0.9161\nEpoch 49/1000\n104000/104000 [==============================] - 1s 14us/sample - loss: 0.2162 - accuracy: 0.9239 - val_loss: 0.2632 - val_accuracy: 0.9165\nEpoch 50/1000\n104000/104000 [==============================] - 2s 15us/sample - loss: 0.2140 - accuracy: 0.9240 - val_loss: 0.2672 - val_accuracy: 0.9151\nEpoch 51/1000\n104000/104000 [==============================] - 1s 13us/sample - loss: 0.2118 - accuracy: 0.9245 - val_loss: 0.2690 - val_accuracy: 0.9146\nEpoch 52/1000\n104000/104000 [==============================] - 1s 13us/sample - loss: 0.2093 - accuracy: 0.9261 - val_loss: 0.2674 - val_accuracy: 0.9149\nEpoch 53/1000\n104000/104000 [==============================] - 1s 14us/sample - loss: 0.2071 - accuracy: 0.9265 - val_loss: 0.2656 - val_accuracy: 0.9159\nTest loss: 0.2708200138642524\nTest accuracy: 0.9149038\n"
    }
   ],
   "source": [
    "history = model.fit(x_train, y_train,\n",
    "                    batch_size=batch_size,\n",
    "                    epochs=epochs, callbacks=[earlyStop],\n",
    "                    validation_data=(x_val, y_val)\n",
    "                    )\n",
    "score = model.evaluate(x_test, y_test, verbose=0)\n",
    "\n",
    "print('Test loss:', score[0])\n",
    "print('Test accuracy:', score[1])\n",
    ""
   ]
  },
  {
   "cell_type": "code",
   "execution_count": null,
   "metadata": {},
   "outputs": [],
   "source": []
  }
 ],
 "metadata": {
  "kernelspec": {
   "display_name": "Python 3",
   "language": "python",
   "name": "python3"
  },
  "language_info": {
   "codemirror_mode": {
    "name": "ipython",
    "version": 3
   },
   "file_extension": ".py",
   "mimetype": "text/x-python",
   "name": "python",
   "nbconvert_exporter": "python",
   "pygments_lexer": "ipython3",
   "version": "3.7.4-final"
  }
 },
 "nbformat": 4,
 "nbformat_minor": 2
}